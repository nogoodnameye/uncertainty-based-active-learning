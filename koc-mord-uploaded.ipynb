{
 "cells": [
  {
   "cell_type": "code",
   "execution_count": null,
   "metadata": {},
   "outputs": [],
   "source": [
    "import pandas as pd\n",
    "import numpy as np\n",
    "from sklearn.metrics import mean_squared_error\n",
    "from sklearn.metrics import r2_score\n",
    "import gpflow\n",
    "import tensorflow as tf\n",
    "from gpflow.ci_utils import ci_niter\n",
    "from gpflow.mean_functions import Constant\n",
    "from gpflow.utilities import positive, print_summary\n",
    "from gpflow.utilities.ops import broadcasting_elementwise\n",
    "from mordred import Calculator, descriptors\n",
    "import pandas as pd\n",
    "import numpy as np\n",
    "from rdkit import Chem\n",
    "from rdkit.Chem import AllChem\n",
    "from sklearn.metrics import mean_absolute_error as mae"
   ]
  },
  {
   "cell_type": "code",
   "execution_count": null,
   "metadata": {},
   "outputs": [],
   "source": [
    "train_data= pd.read_csv('data/train_koc.csv')\n",
    "test_data= pd.read_csv('data/test_koc.csv')\n",
    "train_data.head()"
   ]
  },
  {
   "cell_type": "code",
   "execution_count": null,
   "metadata": {},
   "outputs": [],
   "source": [
    "smile= list(train_data['new_smile'])\n",
    "mols = [Chem.MolFromSmiles(smi) for smi in smile]\n",
    "calc = Calculator(descriptors, ignore_3D=True)\n",
    "train_md = calc.pandas(mols)\n",
    "\n",
    "smile= list(test_data['new_smile'])\n",
    "mols = [Chem.MolFromSmiles(smi) for smi in smile]\n",
    "calc = Calculator(descriptors, ignore_3D=True)\n",
    "test_md = calc.pandas(mols)\n",
    "test_md.head()"
   ]
  },
  {
   "cell_type": "code",
   "execution_count": null,
   "metadata": {},
   "outputs": [],
   "source": [
    "train_md=train_md.astype('float64')\n",
    "test_md=test_md.astype('float64')\n",
    "train_md['Observed']=train_data['Observed']\n",
    "test_md['Observed']=test_data['Observed']\n",
    "data = pd.concat([train_md, test_md], ignore_index=True)\n",
    "data.replace([np.inf, -np.inf], np.nan, inplace=True)\n",
    "data.dropna(axis=1,inplace=True)\n",
    "len(data.columns)\n",
    "corr = data.drop(columns=['Observed']).corr()\n",
    "columns = np.full((corr.shape[0],), True, dtype=bool)\n",
    "for i in range(corr.shape[0]):\n",
    "    for j in range(i+1, corr.shape[0]):\n",
    "        if corr.iloc[i,j] >= 0.9:\n",
    "            if columns[j]:\n",
    "                columns[j] = False\n",
    "selected_columns = data.drop(columns=['Observed']).columns[columns]\n",
    "f_data = data[selected_columns]\n",
    "for i in f_data.columns:\n",
    "    if len(f_data[i].value_counts())<3:\n",
    "        f_data.drop(columns=[i], inplace=True)\n",
    "len(f_data.columns)\n",
    "selected_columns=f_data.columns\n",
    "len(selected_columns)"
   ]
  },
  {
   "cell_type": "code",
   "execution_count": null,
   "metadata": {},
   "outputs": [],
   "source": [
    "import pickle\n",
    "with open(\"koc_col.dump\" , \"wb\") as f:\n",
    "     pickle.dump(selected_columns, f)"
   ]
  },
  {
   "cell_type": "code",
   "execution_count": null,
   "metadata": {},
   "outputs": [],
   "source": [
    "f_data = data[selected_columns]\n",
    "f_data['Observed']=data['Observed']"
   ]
  },
  {
   "cell_type": "code",
   "execution_count": null,
   "metadata": {},
   "outputs": [],
   "source": [
    "from sklearn.model_selection import ShuffleSplit\n",
    "sss = ShuffleSplit(n_splits=1, test_size=0.25,random_state=50)\n",
    "sss.split(f_data)\n",
    "for train_index, test_index in sss.split(f_data):\n",
    "    train_data = f_data.iloc[train_index]\n",
    "    test = f_data.iloc[test_index]\n",
    "    train_data.reset_index(drop=True, inplace=True)\n",
    "    test.reset_index(drop=True, inplace=True)\n",
    "    train_data.to_csv('data/train_koc_rand_mo.csv', index = False)\n",
    "    test.to_csv('data/test_koc_rand_mo.csv', index = False)"
   ]
  },
  {
   "cell_type": "code",
   "execution_count": null,
   "metadata": {},
   "outputs": [],
   "source": [
    "train_data=pd.read_csv('data/train_koc_rand_mo.csv')\n",
    "test_data=pd.read_csv('data/test_koc_rand_mo.csv')\n",
    "x_train = train_data.drop(columns=['Observed']).values\n",
    "y_train = train_data['Observed'].values.reshape(-1,1)\n",
    "x_test = test_data.drop(columns=['Observed']).values\n",
    "y_test = test_data['Observed'].values.reshape(-1,1)"
   ]
  },
  {
   "cell_type": "code",
   "execution_count": null,
   "metadata": {},
   "outputs": [],
   "source": [
    "from sklearn.preprocessing import StandardScaler\n",
    "sc = StandardScaler()\n",
    "x_train = sc.fit_transform(x_train)\n",
    "x_test = sc.transform(x_test)"
   ]
  },
  {
   "cell_type": "code",
   "execution_count": null,
   "metadata": {},
   "outputs": [],
   "source": [
    "x_train.shape"
   ]
  },
  {
   "cell_type": "code",
   "execution_count": null,
   "metadata": {},
   "outputs": [],
   "source": [
    "import sklearn.gaussian_process as gp\n",
    "kernel = gp.kernels.ConstantKernel(1.0, (1e-1, 1e3)) * gp.kernels.RBF(1.0, (1e-3, 1e7)) + gp.kernels.WhiteKernel() \n",
    "m_1 = gp.GaussianProcessRegressor(kernel=kernel, \n",
    "                                    optimizer='fmin_l_bfgs_b',\n",
    "                                    n_restarts_optimizer=30, \n",
    "                                    #alpha =0.01,\n",
    "                                    normalize_y=True, random_state=10)\n",
    "m_1.fit(x_train, y_train)\n",
    "print(m_1.kernel_)"
   ]
  },
  {
   "cell_type": "code",
   "execution_count": null,
   "metadata": {},
   "outputs": [],
   "source": [
    "import pickle\n",
    "with open(\"koc_rand.dump\" , \"wb\") as f:\n",
    "     pickle.dump(m_1, f)"
   ]
  },
  {
   "cell_type": "code",
   "execution_count": null,
   "metadata": {},
   "outputs": [],
   "source": [
    "y_pred_train, y_var_train = m_1.predict(x_train, return_std=True)\n",
    "y_pred_test, y_var_test = m_1.predict(x_test, return_std=True)"
   ]
  },
  {
   "cell_type": "code",
   "execution_count": null,
   "metadata": {},
   "outputs": [],
   "source": [
    "r2_score(y_train, y_pred_train),r2_score(y_test, y_pred_test),np.sqrt(mean_squared_error(y_train, y_pred_train)), np.sqrt(mean_squared_error(y_test, y_pred_test))"
   ]
  },
  {
   "cell_type": "code",
   "execution_count": null,
   "metadata": {},
   "outputs": [],
   "source": [
    "mae(y_train, y_pred_train), mae(y_test, y_pred_test)"
   ]
  },
  {
   "cell_type": "code",
   "execution_count": null,
   "metadata": {},
   "outputs": [],
   "source": [
    "import matplotlib.pyplot as plt\n",
    "%matplotlib inline\n",
    "plt.figure(figsize=(8,5))\n",
    "plt.hist(y_var_train, bins=20, label='Training')\n",
    "plt.hist(y_var_test, bins =100, label='Test')\n",
    "plt.vlines(x = y_var_train.max(), ymin=0, ymax=70,linestyles='--')\n",
    "plt.xlabel('Sigma', fontsize =20)\n",
    "plt.ylabel('Count', fontsize =20)\n",
    "plt.xticks(fontsize=20)\n",
    "plt.yticks(fontsize=20)\n",
    "plt.legend(fontsize=20)\n",
    "plt.tight_layout()\n",
    "plt.savefig('koc_rand_var_plt_mor.png', figsize=(10, 10),dpi=300)\n",
    "#plt.show()"
   ]
  },
  {
   "cell_type": "code",
   "execution_count": null,
   "metadata": {},
   "outputs": [],
   "source": [
    "plt.scatter(y_train, y_pred_train)\n",
    "plt.scatter(y_test, y_pred_test)"
   ]
  },
  {
   "cell_type": "code",
   "execution_count": null,
   "metadata": {},
   "outputs": [],
   "source": [
    "train_data['pred']=y_pred_train\n",
    "test_data['pred']=y_pred_test\n",
    "train_data['var']=y_var_train\n",
    "test_data['var']=y_var_test\n",
    "train_data.to_excel('train_data_rand_pred_mor.xlsx', index=False)\n",
    "test_data.to_excel('test_data_rand_pred_mor.xlsx', index=False)"
   ]
  },
  {
   "cell_type": "code",
   "execution_count": null,
   "metadata": {},
   "outputs": [],
   "source": [
    "np.random.seed(100)\n",
    "r_sample = np.random.randint(752, size =5)\n",
    "data_md = f_data.copy()\n",
    "train = data_md.loc[r_sample].copy()\n",
    "train.reset_index(drop=True, inplace=True)\n",
    "train_left = data_md.drop(index=r_sample).copy()\n",
    "train_left.reset_index(drop=True, inplace=True)"
   ]
  },
  {
   "cell_type": "code",
   "execution_count": null,
   "metadata": {},
   "outputs": [],
   "source": [
    "x_train = train.drop(columns=['Observed']).values\n",
    "y_train = train['Observed'].values.reshape(-1,1)\n",
    "x_train = sc.fit_transform(x_train)\n",
    "kernel = gp.kernels.ConstantKernel(1.0, (1e-1, 1e3)) * gp.kernels.RBF(1.0, (1e-3, 1e7)) + gp.kernels.WhiteKernel() \n",
    "m = gp.GaussianProcessRegressor(kernel=kernel, \n",
    "                                    optimizer='fmin_l_bfgs_b',\n",
    "                                    n_restarts_optimizer=30, \n",
    "                                    #alpha =0.01,\n",
    "                                    normalize_y=True, random_state=10)\n",
    "m.fit(x_train, y_train)\n",
    "print(m.kernel_)\n",
    "y_pred_train, y_var_train = m.predict(x_train, return_std=True)\n",
    "r2_score(y_train, y_pred_train),"
   ]
  },
  {
   "cell_type": "code",
   "execution_count": null,
   "metadata": {},
   "outputs": [],
   "source": [
    "x_data = train_left.drop(columns=['Observed']).values\n",
    "x_data = sc.transform(x_data)\n",
    "y_pred, y_var=m.predict(x_data, return_std=True)\n",
    "for j in range(559):\n",
    "    ind = np.argmax(y_var)\n",
    "    train = pd.concat([train, train_left.loc[ind:ind]], ignore_index=True)\n",
    "    x_train = train.drop(columns=['Observed']).values\n",
    "    y_train = train['Observed'].values.reshape(-1,1)\n",
    "    x_train = sc.fit_transform(x_train)\n",
    "    kernel = gp.kernels.ConstantKernel(1.0, (1e-1, 1e3)) * gp.kernels.RBF(1.0, (1e-3, 1e7)) + gp.kernels.WhiteKernel() \n",
    "    m = gp.GaussianProcessRegressor(kernel=kernel, \n",
    "                                    optimizer='fmin_l_bfgs_b',\n",
    "                                    n_restarts_optimizer=30, \n",
    "                                    #alpha =0.01,\n",
    "                                    normalize_y=True, random_state=10)\n",
    "    m.fit(x_train, y_train)\n",
    "    train_left.drop(index=[ind], inplace=True)\n",
    "    train_left.reset_index(drop=True, inplace=True)\n",
    "    x_data = train_left.drop(columns=['Observed']).values\n",
    "    x_data = sc.transform(x_data)\n",
    "    y_data = train_left['Observed'].values.reshape(-1,1)\n",
    "    y_train_pred, y_var_train = m.predict(x_train, return_std=True)\n",
    "    y_pred, y_var = m.predict(x_data, return_std=True)"
   ]
  },
  {
   "cell_type": "code",
   "execution_count": null,
   "metadata": {},
   "outputs": [],
   "source": [
    "train['pred']=y_train_pred.reshape(-1)\n",
    "train_left['pred']=y_pred.reshape(-1)\n",
    "train['var']=y_var_train.reshape(-1)\n",
    "train_left['var']=y_var.reshape(-1)\n",
    "train.to_excel('train_data_ac_pred_koc_mor.xlsx', index=False)\n",
    "train_left.to_excel('test_data_ac_pred_koc_mor.xlsx', index=False)"
   ]
  },
  {
   "cell_type": "code",
   "execution_count": null,
   "metadata": {},
   "outputs": [],
   "source": [
    "np.sqrt(mean_squared_error(y_train,y_train_pred)), np.sqrt(mean_squared_error(y_data, y_pred))"
   ]
  },
  {
   "cell_type": "code",
   "execution_count": null,
   "metadata": {},
   "outputs": [],
   "source": [
    "mae(y_train, y_train_pred), mae(y_data, y_pred)"
   ]
  },
  {
   "cell_type": "code",
   "execution_count": null,
   "metadata": {},
   "outputs": [],
   "source": [
    "import pickle\n",
    "with open(\"koc_ac.dump\" , \"wb\") as f:\n",
    "     pickle.dump(m, f)"
   ]
  },
  {
   "cell_type": "code",
   "execution_count": null,
   "metadata": {},
   "outputs": [],
   "source": [
    "#train_v=pd.read_excel('train_ac_var_koc_mor.xlsx')\n",
    "plt.figure(figsize=(8,5))\n",
    "plt.hist(y_var_train, bins=20, label ='Training')\n",
    "plt.hist(y_var, bins =20, label='Test')\n",
    "plt.vlines(x = y_var_train.max(), ymin=0, ymax=70,linestyles='--')\n",
    "plt.xlabel('Sigma', fontsize =20)\n",
    "plt.ylabel('Count', fontsize =20)\n",
    "plt.xticks(fontsize=20)\n",
    "plt.yticks(fontsize=20)\n",
    "plt.legend(fontsize=20)\n",
    "plt.tight_layout()\n",
    "plt.savefig('koc_ac_var_plt_mor.png',figsize = (10,10), dpi=300)\n",
    "#plt.show()\n"
   ]
  },
  {
   "cell_type": "code",
   "execution_count": null,
   "metadata": {},
   "outputs": [],
   "source": []
  }
 ],
 "metadata": {
  "kernelspec": {
   "display_name": "Python 3",
   "language": "python",
   "name": "python3"
  },
  "language_info": {
   "codemirror_mode": {
    "name": "ipython",
    "version": 3
   },
   "file_extension": ".py",
   "mimetype": "text/x-python",
   "name": "python",
   "nbconvert_exporter": "python",
   "pygments_lexer": "ipython3",
   "version": "3.7.10"
  }
 },
 "nbformat": 4,
 "nbformat_minor": 2
}
